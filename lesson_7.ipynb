{
 "cells": [
  {
   "cell_type": "code",
   "execution_count": 1,
   "id": "e606d2d8",
   "metadata": {},
   "outputs": [],
   "source": [
    "import numpy as np"
   ]
  },
  {
   "cell_type": "code",
   "execution_count": 19,
   "id": "562aaca3",
   "metadata": {},
   "outputs": [],
   "source": [
    "data = np.random.randn(3, 5)\n",
    "slice_param = [0, 3, 0, 2]#вказуємо розмірність \"обрізаної\" матриці"
   ]
  },
  {
   "cell_type": "code",
   "execution_count": 20,
   "id": "52ef93b6",
   "metadata": {},
   "outputs": [],
   "source": [
    "class Fumo:\n",
    "    \n",
    "    def __init__(self):\n",
    "        return 0\n",
    "    \n",
    "    def cut_matrix(data, slice_param):\n",
    "        x1, x2, y1, y2 = slice_param\n",
    "        new_matrix = data[x1:x2, y1:y2]\n",
    "        return new_matrix\n",
    "    \n",
    "    def absolute_value(new_matrix):\n",
    "        return np.abs(new_matrix)\n",
    "        \n",
    "    def root(new_matrix):\n",
    "        x = np.abs(new_matrix)\n",
    "        return np.sqrt(x)\n",
    "    \n",
    "    def power_2(new_matrix):\n",
    "        return np.square(new_matrix)\n",
    "    \n",
    "    def exponential(new_matrix):\n",
    "        return np.exp(new_matrix)\n",
    "    \n",
    "    def logs(new_matrix):\n",
    "        return np.log(new_matrix), np.log10(new_matrix), np.log2(new_matrix), np.log1p(new_matrix)\n",
    "    \n",
    "    def sign(new_matrix):\n",
    "        return np.sign(new_matrix)\n",
    "    \n",
    "    def lowest_whole(new_matrix):\n",
    "        return np.floor(new_matrix)\n",
    "    \n",
    "    def est(new_matrix):\n",
    "        return np.rint(new_matrix)\n",
    "    \n",
    "    def split_val(new_matrix):\n",
    "        return np.modf(new_matrix)\n",
    "    \n",
    "    def NaN(new_matrix):\n",
    "        return np.isnan(new_matrix)\n",
    "    \n",
    "    def fin_inf(new_matrix):\n",
    "        return np.isfinite(new_matrix), np.isinf(new_matrix)\n",
    "    \n",
    "    def trigonometry(new_matrix):\n",
    "        return np.cos(new_matrix), np.sin(new_matrix), np.tan(new_matrix), np.cosh(new_matrix), np.sinh(new_matrix), np.tanh(new_matrix)\n",
    "    \n",
    "    def rev_trigonometry(new_matrix):\n",
    "        return np.arccos(new_matrix), np.arcsin(new_matrix), np.arctan(new_matrix), np.arccosh(new_matrix), np.arcsinh(new_matrix), np.arctanh(new_matrix)\n",
    "    \n",
    "    def is_not(new_matrix):\n",
    "        return np.logical_not(new_matrix)"
   ]
  },
  {
   "cell_type": "code",
   "execution_count": 30,
   "id": "99457dc8",
   "metadata": {},
   "outputs": [
    {
     "name": "stdout",
     "output_type": "stream",
     "text": [
      "[[0.88618042 0.09899598]\n",
      " [0.160424   0.04773687]\n",
      " [0.85070357 0.83741955]]\n",
      "[[0.94137156 0.31463626]\n",
      " [0.40052964 0.21848769]\n",
      " [0.92233593 0.9151063 ]]\n",
      "[[0.78531573 0.0098002 ]\n",
      " [0.02573586 0.00227881]\n",
      " [0.72369656 0.7012715 ]]\n",
      "[[2.42584621 1.10406186]\n",
      " [1.17400854 0.95338462]\n",
      " [0.42711432 0.43282597]]\n",
      "[[ 1.  1.]\n",
      " [ 1. -1.]\n",
      " [-1. -1.]]\n",
      "[[ 0.  0.]\n",
      " [ 0. -1.]\n",
      " [-1. -1.]]\n",
      "[[ 1.  0.]\n",
      " [ 0. -0.]\n",
      " [-1. -1.]]\n",
      "(array([[ 0.88618042,  0.09899598],\n",
      "       [ 0.160424  , -0.04773687],\n",
      "       [-0.85070357, -0.83741955]]), array([[ 0.,  0.],\n",
      "       [ 0., -0.],\n",
      "       [-0., -0.]]))\n",
      "[[False False]\n",
      " [False False]\n",
      " [False False]]\n",
      "(array([[ True,  True],\n",
      "       [ True,  True],\n",
      "       [ True,  True]]), array([[False, False],\n",
      "       [False, False],\n",
      "       [False, False]]))\n",
      "[[False False]\n",
      " [False False]\n",
      " [False False]]\n"
     ]
    }
   ],
   "source": [
    "new_matrix = Fumo.cut_matrix(data, slice_param)\n",
    "print(Fumo.absolute_value(new_matrix))\n",
    "print(Fumo.root(new_matrix))\n",
    "print(Fumo.power_2(new_matrix))\n",
    "print(Fumo.exponential(new_matrix))\n",
    "#print(Fumo.logs(new_matrix))\n",
    "print(Fumo.sign(new_matrix))\n",
    "print(Fumo.lowest_whole(new_matrix))\n",
    "print(Fumo.est(new_matrix))\n",
    "print(Fumo.split_val(new_matrix))\n",
    "print(Fumo.NaN(new_matrix))\n",
    "print(Fumo.fin_inf(new_matrix))\n",
    "#print(Fumo.trigonometry(new_matrix))\n",
    "#print(Fumo.rev_trigonometry(new_matrix))\n",
    "print(Fumo.is_not(new_matrix))"
   ]
  },
  {
   "cell_type": "code",
   "execution_count": 32,
   "id": "e5b5b160",
   "metadata": {},
   "outputs": [
    {
     "data": {
      "text/plain": [
       "array([[ 0.88618042,  0.88618042,  0.88618042,  0.88618042,  0.09899598,\n",
       "         0.09899598,  0.09899598,  0.09899598],\n",
       "       [ 0.160424  ,  0.160424  ,  0.160424  ,  0.160424  , -0.04773687,\n",
       "        -0.04773687, -0.04773687, -0.04773687],\n",
       "       [-0.85070357, -0.85070357, -0.85070357, -0.85070357, -0.83741955,\n",
       "        -0.83741955, -0.83741955, -0.83741955]])"
      ]
     },
     "execution_count": 32,
     "metadata": {},
     "output_type": "execute_result"
    }
   ],
   "source": [
    "np.repeat(new_matrix, 4, 1)"
   ]
  },
  {
   "cell_type": "code",
   "execution_count": null,
   "id": "1996a09a",
   "metadata": {},
   "outputs": [],
   "source": []
  }
 ],
 "metadata": {
  "kernelspec": {
   "display_name": "Python 3 (ipykernel)",
   "language": "python",
   "name": "python3"
  },
  "language_info": {
   "codemirror_mode": {
    "name": "ipython",
    "version": 3
   },
   "file_extension": ".py",
   "mimetype": "text/x-python",
   "name": "python",
   "nbconvert_exporter": "python",
   "pygments_lexer": "ipython3",
   "version": "3.9.5"
  }
 },
 "nbformat": 4,
 "nbformat_minor": 5
}
